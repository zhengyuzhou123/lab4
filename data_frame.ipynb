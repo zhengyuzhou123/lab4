{
 "cells": [
  {
   "cell_type": "code",
   "execution_count": 4,
   "id": "77cb1e10",
   "metadata": {},
   "outputs": [
    {
     "name": "stderr",
     "output_type": "stream",
     "text": [
      "[Stage 3:>                                                          (0 + 1) / 1]\r"
     ]
    },
    {
     "name": "stdout",
     "output_type": "stream",
     "text": [
      "root\n",
      " |-- ID: string (nullable = true)\n",
      " |-- LAST_UPDATED_DATE: string (nullable = true)\n",
      " |-- LAST_UPDATED_TIMESTAMP: timestamp (nullable = true)\n",
      " |-- DUPLICATES: integer (nullable = true)\n",
      " |-- POSTED: string (nullable = true)\n",
      " |-- EXPIRED: string (nullable = true)\n",
      " |-- DURATION: integer (nullable = true)\n",
      " |-- SOURCE_TYPES: string (nullable = true)\n",
      " |-- SOURCES: string (nullable = true)\n",
      " |-- URL: string (nullable = true)\n",
      " |-- ACTIVE_URLS: string (nullable = true)\n",
      " |-- ACTIVE_SOURCES_INFO: string (nullable = true)\n",
      " |-- TITLE_RAW: string (nullable = true)\n",
      " |-- BODY: string (nullable = true)\n",
      " |-- MODELED_EXPIRED: string (nullable = true)\n",
      " |-- MODELED_DURATION: integer (nullable = true)\n",
      " |-- COMPANY: integer (nullable = true)\n",
      " |-- COMPANY_NAME: string (nullable = true)\n",
      " |-- COMPANY_RAW: string (nullable = true)\n",
      " |-- COMPANY_IS_STAFFING: boolean (nullable = true)\n",
      " |-- EDUCATION_LEVELS: string (nullable = true)\n",
      " |-- EDUCATION_LEVELS_NAME: string (nullable = true)\n",
      " |-- MIN_EDULEVELS: integer (nullable = true)\n",
      " |-- MIN_EDULEVELS_NAME: string (nullable = true)\n",
      " |-- MAX_EDULEVELS: integer (nullable = true)\n",
      " |-- MAX_EDULEVELS_NAME: string (nullable = true)\n",
      " |-- EMPLOYMENT_TYPE: integer (nullable = true)\n",
      " |-- EMPLOYMENT_TYPE_NAME: string (nullable = true)\n",
      " |-- MIN_YEARS_EXPERIENCE: integer (nullable = true)\n",
      " |-- MAX_YEARS_EXPERIENCE: integer (nullable = true)\n",
      " |-- IS_INTERNSHIP: boolean (nullable = true)\n",
      " |-- SALARY: integer (nullable = true)\n",
      " |-- REMOTE_TYPE: integer (nullable = true)\n",
      " |-- REMOTE_TYPE_NAME: string (nullable = true)\n",
      " |-- ORIGINAL_PAY_PERIOD: string (nullable = true)\n",
      " |-- SALARY_TO: integer (nullable = true)\n",
      " |-- SALARY_FROM: integer (nullable = true)\n",
      " |-- LOCATION: string (nullable = true)\n",
      " |-- CITY: string (nullable = true)\n",
      " |-- CITY_NAME: string (nullable = true)\n",
      " |-- COUNTY: integer (nullable = true)\n",
      " |-- COUNTY_NAME: string (nullable = true)\n",
      " |-- MSA: integer (nullable = true)\n",
      " |-- MSA_NAME: string (nullable = true)\n",
      " |-- STATE: integer (nullable = true)\n",
      " |-- STATE_NAME: string (nullable = true)\n",
      " |-- COUNTY_OUTGOING: integer (nullable = true)\n",
      " |-- COUNTY_NAME_OUTGOING: string (nullable = true)\n",
      " |-- COUNTY_INCOMING: integer (nullable = true)\n",
      " |-- COUNTY_NAME_INCOMING: string (nullable = true)\n",
      " |-- MSA_OUTGOING: integer (nullable = true)\n",
      " |-- MSA_NAME_OUTGOING: string (nullable = true)\n",
      " |-- MSA_INCOMING: integer (nullable = true)\n",
      " |-- MSA_NAME_INCOMING: string (nullable = true)\n",
      " |-- NAICS2: integer (nullable = true)\n",
      " |-- NAICS2_NAME: string (nullable = true)\n",
      " |-- NAICS3: integer (nullable = true)\n",
      " |-- NAICS3_NAME: string (nullable = true)\n",
      " |-- NAICS4: integer (nullable = true)\n",
      " |-- NAICS4_NAME: string (nullable = true)\n",
      " |-- NAICS5: integer (nullable = true)\n",
      " |-- NAICS5_NAME: string (nullable = true)\n",
      " |-- NAICS6: integer (nullable = true)\n",
      " |-- NAICS6_NAME: string (nullable = true)\n",
      " |-- TITLE: string (nullable = true)\n",
      " |-- TITLE_NAME: string (nullable = true)\n",
      " |-- TITLE_CLEAN: string (nullable = true)\n",
      " |-- SKILLS: string (nullable = true)\n",
      " |-- SKILLS_NAME: string (nullable = true)\n",
      " |-- SPECIALIZED_SKILLS: string (nullable = true)\n",
      " |-- SPECIALIZED_SKILLS_NAME: string (nullable = true)\n",
      " |-- CERTIFICATIONS: string (nullable = true)\n",
      " |-- CERTIFICATIONS_NAME: string (nullable = true)\n",
      " |-- COMMON_SKILLS: string (nullable = true)\n",
      " |-- COMMON_SKILLS_NAME: string (nullable = true)\n",
      " |-- SOFTWARE_SKILLS: string (nullable = true)\n",
      " |-- SOFTWARE_SKILLS_NAME: string (nullable = true)\n",
      " |-- ONET: string (nullable = true)\n",
      " |-- ONET_NAME: string (nullable = true)\n",
      " |-- ONET_2019: string (nullable = true)\n",
      " |-- ONET_2019_NAME: string (nullable = true)\n",
      " |-- CIP6: string (nullable = true)\n",
      " |-- CIP6_NAME: string (nullable = true)\n",
      " |-- CIP4: string (nullable = true)\n",
      " |-- CIP4_NAME: string (nullable = true)\n",
      " |-- CIP2: string (nullable = true)\n",
      " |-- CIP2_NAME: string (nullable = true)\n",
      " |-- SOC_2021_2: string (nullable = true)\n",
      " |-- SOC_2021_2_NAME: string (nullable = true)\n",
      " |-- SOC_2021_3: string (nullable = true)\n",
      " |-- SOC_2021_3_NAME: string (nullable = true)\n",
      " |-- SOC_2021_4: string (nullable = true)\n",
      " |-- SOC_2021_4_NAME: string (nullable = true)\n",
      " |-- SOC_2021_5: string (nullable = true)\n",
      " |-- SOC_2021_5_NAME: string (nullable = true)\n",
      " |-- LOT_CAREER_AREA: integer (nullable = true)\n",
      " |-- LOT_CAREER_AREA_NAME: string (nullable = true)\n",
      " |-- LOT_OCCUPATION: integer (nullable = true)\n",
      " |-- LOT_OCCUPATION_NAME: string (nullable = true)\n",
      " |-- LOT_SPECIALIZED_OCCUPATION: integer (nullable = true)\n",
      " |-- LOT_SPECIALIZED_OCCUPATION_NAME: string (nullable = true)\n",
      " |-- LOT_OCCUPATION_GROUP: integer (nullable = true)\n",
      " |-- LOT_OCCUPATION_GROUP_NAME: string (nullable = true)\n",
      " |-- LOT_V6_SPECIALIZED_OCCUPATION: integer (nullable = true)\n",
      " |-- LOT_V6_SPECIALIZED_OCCUPATION_NAME: string (nullable = true)\n",
      " |-- LOT_V6_OCCUPATION: integer (nullable = true)\n",
      " |-- LOT_V6_OCCUPATION_NAME: string (nullable = true)\n",
      " |-- LOT_V6_OCCUPATION_GROUP: integer (nullable = true)\n",
      " |-- LOT_V6_OCCUPATION_GROUP_NAME: string (nullable = true)\n",
      " |-- LOT_V6_CAREER_AREA: integer (nullable = true)\n",
      " |-- LOT_V6_CAREER_AREA_NAME: string (nullable = true)\n",
      " |-- SOC_2: string (nullable = true)\n",
      " |-- SOC_2_NAME: string (nullable = true)\n",
      " |-- SOC_3: string (nullable = true)\n",
      " |-- SOC_3_NAME: string (nullable = true)\n",
      " |-- SOC_4: string (nullable = true)\n",
      " |-- SOC_4_NAME: string (nullable = true)\n",
      " |-- SOC_5: string (nullable = true)\n",
      " |-- SOC_5_NAME: string (nullable = true)\n",
      " |-- LIGHTCAST_SECTORS: string (nullable = true)\n",
      " |-- LIGHTCAST_SECTORS_NAME: string (nullable = true)\n",
      " |-- NAICS_2022_2: integer (nullable = true)\n",
      " |-- NAICS_2022_2_NAME: string (nullable = true)\n",
      " |-- NAICS_2022_3: integer (nullable = true)\n",
      " |-- NAICS_2022_3_NAME: string (nullable = true)\n",
      " |-- NAICS_2022_4: integer (nullable = true)\n",
      " |-- NAICS_2022_4_NAME: string (nullable = true)\n",
      " |-- NAICS_2022_5: integer (nullable = true)\n",
      " |-- NAICS_2022_5_NAME: string (nullable = true)\n",
      " |-- NAICS_2022_6: integer (nullable = true)\n",
      " |-- NAICS_2022_6_NAME: string (nullable = true)\n",
      "\n"
     ]
    },
    {
     "name": "stderr",
     "output_type": "stream",
     "text": [
      "                                                                                \r"
     ]
    }
   ],
   "source": [
    "from pyspark.sql import SparkSession\n",
    "\n",
    "# Start a Spark session\n",
    "spark = SparkSession.builder.appName(\"JobPostingsAnalysis\").getOrCreate()\n",
    "\n",
    "# Load the CSV file into a Spark DataFrame\n",
    "df = spark.read.option(\"header\", \"true\").option(\"inferSchema\", \"true\").option(\"multiLine\",\"true\").option(\"escape\", \"\\\"\").csv(\"data/lightcast_job_postings.csv\")\n",
    "\n",
    "# Show schema\n",
    "df.printSchema()"
   ]
  },
  {
   "cell_type": "code",
   "execution_count": 7,
   "id": "8b2469fa",
   "metadata": {},
   "outputs": [
    {
     "name": "stderr",
     "output_type": "stream",
     "text": [
      "                                                                                \r"
     ]
    },
    {
     "name": "stdout",
     "output_type": "stream",
     "text": [
      "Dataset Info:\n",
      "<class 'pandas.core.frame.DataFrame'>\n",
      "RangeIndex: 5000 entries, 0 to 4999\n",
      "Columns: 131 entries, ID to NAICS_2022_6_NAME\n",
      "dtypes: datetime64[ns](1), float64(38), object(92)\n",
      "memory usage: 5.0+ MB\n",
      "First 5 Rows:\n",
      "                                         ID LAST_UPDATED_DATE  \\\n",
      "0  1f57d95acf4dc67ed2819eb12f049f6a5c11782c          9/6/2024   \n",
      "1  0cb072af26757b6c4ea9464472a50a443af681ac          8/2/2024   \n",
      "2  85318b12b3331fa490d32ad014379df01855c557          9/6/2024   \n",
      "3  1b5c3941e54a1889ef4f8ae55b401a550708a310          9/6/2024   \n",
      "4  cb5ca25f02bdf25c13edfede7931508bfd9e858f         6/19/2024   \n",
      "\n",
      "   LAST_UPDATED_TIMESTAMP  DUPLICATES    POSTED    EXPIRED  DURATION  \\\n",
      "0 2024-09-06 20:32:57.352         0.0  6/2/2024   6/8/2024       6.0   \n",
      "1 2024-08-02 17:08:58.838         0.0  6/2/2024   8/1/2024       NaN   \n",
      "2 2024-09-06 20:32:57.352         1.0  6/2/2024   7/7/2024      35.0   \n",
      "3 2024-09-06 20:32:57.352         1.0  6/2/2024  7/20/2024      48.0   \n",
      "4 2024-06-19 07:00:00.000         0.0  6/2/2024  6/17/2024      15.0   \n",
      "\n",
      "             SOURCE_TYPES                                        SOURCES  \\\n",
      "0       [\\n  \"Company\"\\n]                        [\\n  \"brassring.com\"\\n]   \n",
      "1     [\\n  \"Job Board\"\\n]                            [\\n  \"maine.gov\"\\n]   \n",
      "2     [\\n  \"Job Board\"\\n]                           [\\n  \"dejobs.org\"\\n]   \n",
      "3     [\\n  \"Job Board\"\\n]  [\\n  \"disabledperson.com\",\\n  \"dejobs.org\"\\n]   \n",
      "4  [\\n  \"FreeJobBoard\"\\n]                       [\\n  \"craigslist.org\"\\n]   \n",
      "\n",
      "                                                 URL  ... NAICS_2022_2  \\\n",
      "0  [\\n  \"https://sjobs.brassring.com/TGnewUI/Sear...  ...         44.0   \n",
      "1   [\\n  \"https://joblink.maine.gov/jobs/1085740\"\\n]  ...         56.0   \n",
      "2  [\\n  \"https://dejobs.org/dallas-tx/data-analys...  ...         52.0   \n",
      "3  [\\n  \"https://www.disabledperson.com/jobs/5948...  ...         52.0   \n",
      "4  [\\n  \"https://modesto.craigslist.org/sls/77475...  ...         99.0   \n",
      "\n",
      "                                   NAICS_2022_2_NAME NAICS_2022_3  \\\n",
      "0                                       Retail Trade        441.0   \n",
      "1  Administrative and Support and Waste Managemen...        561.0   \n",
      "2                              Finance and Insurance        524.0   \n",
      "3                              Finance and Insurance        522.0   \n",
      "4                              Unclassified Industry        999.0   \n",
      "\n",
      "                              NAICS_2022_3_NAME NAICS_2022_4  \\\n",
      "0               Motor Vehicle and Parts Dealers       4413.0   \n",
      "1           Administrative and Support Services       5613.0   \n",
      "2     Insurance Carriers and Related Activities       5242.0   \n",
      "3  Credit Intermediation and Related Activities       5221.0   \n",
      "4                         Unclassified Industry       9999.0   \n",
      "\n",
      "                                   NAICS_2022_4_NAME  NAICS_2022_5  \\\n",
      "0  Automotive Parts, Accessories, and Tire Retailers       44133.0   \n",
      "1                                Employment Services       56132.0   \n",
      "2  Agencies, Brokerages, and Other Insurance Rela...       52429.0   \n",
      "3                   Depository Credit Intermediation       52211.0   \n",
      "4                              Unclassified Industry       99999.0   \n",
      "\n",
      "                            NAICS_2022_5_NAME NAICS_2022_6  \\\n",
      "0  Automotive Parts and Accessories Retailers     441330.0   \n",
      "1                     Temporary Help Services     561320.0   \n",
      "2          Other Insurance Related Activities     524291.0   \n",
      "3                          Commercial Banking     522110.0   \n",
      "4                       Unclassified Industry     999999.0   \n",
      "\n",
      "                            NAICS_2022_6_NAME  \n",
      "0  Automotive Parts and Accessories Retailers  \n",
      "1                     Temporary Help Services  \n",
      "2                            Claims Adjusting  \n",
      "3                          Commercial Banking  \n",
      "4                       Unclassified Industry  \n",
      "\n",
      "[5 rows x 131 columns]\n",
      "Missing Values:\n",
      "ID                        3\n",
      "LAST_UPDATED_DATE         3\n",
      "LAST_UPDATED_TIMESTAMP    3\n",
      "DUPLICATES                3\n",
      "POSTED                    3\n",
      "                         ..\n",
      "NAICS_2022_4_NAME         6\n",
      "NAICS_2022_5              6\n",
      "NAICS_2022_5_NAME         6\n",
      "NAICS_2022_6              6\n",
      "NAICS_2022_6_NAME         6\n",
      "Length: 131, dtype: int64\n"
     ]
    }
   ],
   "source": [
    "pdf = df.limit(5000).toPandas()\n",
    "\n",
    "print(\"Dataset Info:\")\n",
    "pdf.info()\n",
    "\n",
    "print(\"First 5 Rows:\")\n",
    "print(pdf.head())\n",
    "\n",
    "print(\"Missing Values:\")\n",
    "print(pdf.isnull().sum())"
   ]
  },
  {
   "cell_type": "code",
   "execution_count": 6,
   "id": "963396b1",
   "metadata": {},
   "outputs": [
    {
     "name": "stderr",
     "output_type": "stream",
     "text": [
      "[Stage 10:======================================>                   (4 + 2) / 6]\r"
     ]
    },
    {
     "name": "stdout",
     "output_type": "stream",
     "text": [
      "removed duplicates: 21 rows deleted.\n",
      "Remaining rows: 72477\n"
     ]
    },
    {
     "name": "stderr",
     "output_type": "stream",
     "text": [
      "                                                                                \r"
     ]
    }
   ],
   "source": [
    "# Delete duplicate lines\n",
    "df_cleaned = df.dropDuplicates()\n",
    "\n",
    "# Check the number of rows after cleaning\n",
    "original_count = df.count()\n",
    "cleaned_count = df_cleaned.count()\n",
    "\n",
    "print(f\"removed duplicates: {original_count - cleaned_count} rows deleted.\")\n",
    "print(f\"Remaining rows: {cleaned_count}\")"
   ]
  },
  {
   "cell_type": "code",
   "execution_count": 8,
   "id": "b596b0f3",
   "metadata": {},
   "outputs": [
    {
     "name": "stderr",
     "output_type": "stream",
     "text": [
      "[Stage 15:>                                                         (0 + 1) / 1]\r"
     ]
    },
    {
     "name": "stdout",
     "output_type": "stream",
     "text": [
      "Filled missing salaries with median: 115024.0\n"
     ]
    },
    {
     "name": "stderr",
     "output_type": "stream",
     "text": [
      "                                                                                \r"
     ]
    }
   ],
   "source": [
    "# Handle Missing Values\n",
    "\n",
    "from pyspark.sql import functions as F\n",
    "\n",
    "# Convert to numeric type\n",
    "df = df.withColumn(\"SALARY\", F.col(\"SALARY\").cast(\"double\"))\n",
    "\n",
    "# Calculate the median and fill it in missing values\n",
    "median_salary = df.approxQuantile(\"SALARY\", [0.5], 0.01)[0]\n",
    "df = df.fillna({\"SALARY\": median_salary})\n",
    "\n",
    "print(f\"Filled missing salaries with median: {median_salary}\")"
   ]
  },
  {
   "cell_type": "code",
   "execution_count": null,
   "id": "3420acac",
   "metadata": {},
   "outputs": [],
   "source": [
    "from pyspark.sql import functions as F\n",
    "\n",
    "#The date of conversion\n",
    "date_cols = [\"LAST_UPDATED_DATE\",\"POSTED\", \"EXPIRED\",]\n",
    "\n",
    "for c in date_cols:\n",
    "    df = df.withColumn(\n",
    "        c,\n",
    "        F.when(F.col(c).rlike(r\"^\\d{1,2}/\\d{1,2}/\\d{4}$\"), F.to_date(F.col(c), \"M/d/yyyy\")).otherwise(None)\n",
    "    )\n",
    "    print(f\"✅ Safely converted {c} to date type (invalid values set to NULL).\")\n",
    "\n",
    "df.select(date_cols).show(5)\n",
    "df.printSchema()"
   ]
  },
  {
   "cell_type": "code",
   "execution_count": 23,
   "id": "308207e1",
   "metadata": {},
   "outputs": [
    {
     "name": "stderr",
     "output_type": "stream",
     "text": [
      "[Stage 36:>                                                         (0 + 1) / 1]\r"
     ]
    },
    {
     "name": "stdout",
     "output_type": "stream",
     "text": [
      "Total Job Postings: 72498\n"
     ]
    },
    {
     "name": "stderr",
     "output_type": "stream",
     "text": [
      "                                                                                \r"
     ]
    }
   ],
   "source": [
    "#Count Total Job Postings\n",
    "\n",
    "total_postings = df.count()\n",
    "print(f\"Total Job Postings: {total_postings}\")"
   ]
  },
  {
   "cell_type": "code",
   "execution_count": 25,
   "id": "4a4101c0",
   "metadata": {},
   "outputs": [
    {
     "name": "stderr",
     "output_type": "stream",
     "text": [
      "[Stage 39:>                                                         (0 + 1) / 1]\r"
     ]
    },
    {
     "name": "stdout",
     "output_type": "stream",
     "text": [
      "+--------------------+-----+\n",
      "|           TITLE_RAW|count|\n",
      "+--------------------+-----+\n",
      "|        Data Analyst| 4201|\n",
      "|Enterprise Architect|  808|\n",
      "| Senior Data Analyst|  724|\n",
      "|Business Intellig...|  686|\n",
      "|        Data Modeler|  281|\n",
      "+--------------------+-----+\n",
      "\n"
     ]
    },
    {
     "name": "stderr",
     "output_type": "stream",
     "text": [
      "                                                                                \r"
     ]
    }
   ],
   "source": [
    "#Find Top 5 Job Titles\n",
    "\n",
    "from pyspark.sql import functions as F\n",
    "top_job_titles = df.groupBy(\"TITLE_RAW\").count().orderBy(F.desc(\"count\")).limit(5)\n",
    "top_job_titles.show()"
   ]
  },
  {
   "cell_type": "code",
   "execution_count": 27,
   "id": "9a7ac71a",
   "metadata": {},
   "outputs": [
    {
     "name": "stderr",
     "output_type": "stream",
     "text": [
      "[Stage 42:>                                                         (0 + 1) / 1]\r"
     ]
    },
    {
     "name": "stdout",
     "output_type": "stream",
     "text": [
      "+--------------------+-----------------+\n",
      "|           TITLE_RAW|   Average_Salary|\n",
      "+--------------------+-----------------+\n",
      "|Pulmonology/Criti...|         500000.0|\n",
      "|Upcoming Oracle C...|         500000.0|\n",
      "|                 ENT|         470000.0|\n",
      "|Svp, Digital Tran...|         437500.0|\n",
      "|Urgent Care Physi...|         370275.0|\n",
      "|Urgent Care Physi...|         370275.0|\n",
      "|Director, Busines...|         353500.0|\n",
      "|Geriatrics, Palli...|         347075.0|\n",
      "|AI Portfolio & Ec...|         345350.0|\n",
      "|Enterprise Princi...|333833.3333333333|\n",
      "|Managing Principa...|         328600.0|\n",
      "|Creative Technolo...|323366.6666666667|\n",
      "|Vice President, P...|         319100.0|\n",
      "|Security & Privac...|         317000.0|\n",
      "|Nephrologist - An...|         315175.0|\n",
      "|I.P. - Patent Pro...|         312500.0|\n",
      "|(USA) Senior Dist...|         312000.0|\n",
      "|Dir PMPD Data Ena...|         311600.0|\n",
      "|Vp, Data Analytic...|         311000.0|\n",
      "|Oracle ERP Cloud ...|         310050.0|\n",
      "+--------------------+-----------------+\n",
      "only showing top 20 rows\n"
     ]
    },
    {
     "name": "stderr",
     "output_type": "stream",
     "text": [
      "                                                                                \r"
     ]
    }
   ],
   "source": [
    "#Calculate Average Salary by Job Type\n",
    "avg_salary_by_job_type = df.groupBy(\"TITLE_RAW\").agg(F.avg(\"SALARY\").alias(\"Average_Salary\")).orderBy(F.desc(\"Average_Salary\"))\n",
    "avg_salary_by_job_type.show()"
   ]
  },
  {
   "cell_type": "code",
   "execution_count": null,
   "id": "70ec6be8",
   "metadata": {},
   "outputs": [],
   "source": []
  }
 ],
 "metadata": {
  "kernelspec": {
   "display_name": ".venv",
   "language": "python",
   "name": "python3"
  },
  "language_info": {
   "codemirror_mode": {
    "name": "ipython",
    "version": 3
   },
   "file_extension": ".py",
   "mimetype": "text/x-python",
   "name": "python",
   "nbconvert_exporter": "python",
   "pygments_lexer": "ipython3",
   "version": "3.10.12"
  }
 },
 "nbformat": 4,
 "nbformat_minor": 5
}
